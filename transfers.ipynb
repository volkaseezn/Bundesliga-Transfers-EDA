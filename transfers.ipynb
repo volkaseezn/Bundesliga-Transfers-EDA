{
 "cells": [
  {
   "cell_type": "markdown",
   "metadata": {},
   "source": [
    "## BUNDESLIGA TRANSFERS EXPLORATORY ANALYSIS\n",
    "### By Volker F.K. Tachin\n",
    "###### 24th September 2022\n",
    "---\n",
    "\n",
    "The dataset was pulled from github at https://github.com/ewenme/transfers which is regularly updated from tranfermarkt.com.\n",
    "\n",
    "This particular dataset `1-bundesliga.csv` contains 14k+ observations and 12 variables.\n",
    "The variables and explanations can be found at [this readme](https://github.com/ewenme/transfers/blob/master/README.md)\n",
    "\n",
    "Objectives:\n",
    "- Perform data cleaning to ensure the dataset can be worked with\n",
    "- Perform EDA to uncover meaningful insights\n",
    "- Create a modified dataset to use to create a dashboard in PowerBI"
   ]
  },
  {
   "cell_type": "code",
   "execution_count": 1,
   "metadata": {},
   "outputs": [],
   "source": [
    "#importing necessary libraries\n",
    "import pandas as pd\n",
    "import numpy as np\n",
    "import seaborn as sns\n",
    "import glob\n",
    "import matplotlib.pyplot as plt\n",
    "%matplotlib inline"
   ]
  },
  {
   "cell_type": "code",
   "execution_count": 2,
   "metadata": {},
   "outputs": [],
   "source": [
    "#loading data\n",
    "data = pd.read_csv(\"transfers\\\\data\\\\1-bundesliga.csv\")"
   ]
  },
  {
   "cell_type": "markdown",
   "metadata": {},
   "source": [
    "## Data Exploration"
   ]
  },
  {
   "cell_type": "code",
   "execution_count": 3,
   "metadata": {},
   "outputs": [
    {
     "data": {
      "text/html": [
       "<div>\n",
       "<style scoped>\n",
       "    .dataframe tbody tr th:only-of-type {\n",
       "        vertical-align: middle;\n",
       "    }\n",
       "\n",
       "    .dataframe tbody tr th {\n",
       "        vertical-align: top;\n",
       "    }\n",
       "\n",
       "    .dataframe thead th {\n",
       "        text-align: right;\n",
       "    }\n",
       "</style>\n",
       "<table border=\"1\" class=\"dataframe\">\n",
       "  <thead>\n",
       "    <tr style=\"text-align: right;\">\n",
       "      <th></th>\n",
       "      <th>club_name</th>\n",
       "      <th>player_name</th>\n",
       "      <th>age</th>\n",
       "      <th>position</th>\n",
       "      <th>club_involved_name</th>\n",
       "      <th>fee</th>\n",
       "      <th>transfer_movement</th>\n",
       "      <th>transfer_period</th>\n",
       "      <th>fee_cleaned</th>\n",
       "      <th>league_name</th>\n",
       "      <th>year</th>\n",
       "      <th>season</th>\n",
       "    </tr>\n",
       "  </thead>\n",
       "  <tbody>\n",
       "    <tr>\n",
       "      <th>0</th>\n",
       "      <td>1.FC Saarbrücken</td>\n",
       "      <td>Thomas Stratos</td>\n",
       "      <td>25.0</td>\n",
       "      <td>Defensive Midfield</td>\n",
       "      <td>Hamburger SV</td>\n",
       "      <td>€150Th.</td>\n",
       "      <td>in</td>\n",
       "      <td>Summer</td>\n",
       "      <td>0.15</td>\n",
       "      <td>1 Bundesliga</td>\n",
       "      <td>1992</td>\n",
       "      <td>1992/1993</td>\n",
       "    </tr>\n",
       "    <tr>\n",
       "      <th>1</th>\n",
       "      <td>1.FC Saarbrücken</td>\n",
       "      <td>Matthias Lust</td>\n",
       "      <td>22.0</td>\n",
       "      <td>Left Midfield</td>\n",
       "      <td>Waldh. Mannheim</td>\n",
       "      <td>free transfer</td>\n",
       "      <td>in</td>\n",
       "      <td>Summer</td>\n",
       "      <td>0.00</td>\n",
       "      <td>1 Bundesliga</td>\n",
       "      <td>1992</td>\n",
       "      <td>1992/1993</td>\n",
       "    </tr>\n",
       "    <tr>\n",
       "      <th>2</th>\n",
       "      <td>1.FC Saarbrücken</td>\n",
       "      <td>Henning Bürger</td>\n",
       "      <td>22.0</td>\n",
       "      <td>Left Midfield</td>\n",
       "      <td>FC Schalke 04</td>\n",
       "      <td>free transfer</td>\n",
       "      <td>in</td>\n",
       "      <td>Summer</td>\n",
       "      <td>0.00</td>\n",
       "      <td>1 Bundesliga</td>\n",
       "      <td>1992</td>\n",
       "      <td>1992/1993</td>\n",
       "    </tr>\n",
       "    <tr>\n",
       "      <th>3</th>\n",
       "      <td>1.FC Saarbrücken</td>\n",
       "      <td>Michael Hennig</td>\n",
       "      <td>20.0</td>\n",
       "      <td>midfield</td>\n",
       "      <td>FC Berlin</td>\n",
       "      <td>free transfer</td>\n",
       "      <td>in</td>\n",
       "      <td>Summer</td>\n",
       "      <td>0.00</td>\n",
       "      <td>1 Bundesliga</td>\n",
       "      <td>1992</td>\n",
       "      <td>1992/1993</td>\n",
       "    </tr>\n",
       "    <tr>\n",
       "      <th>4</th>\n",
       "      <td>1.FC Saarbrücken</td>\n",
       "      <td>Malik Badji</td>\n",
       "      <td>24.0</td>\n",
       "      <td>defence</td>\n",
       "      <td>CS Sedan</td>\n",
       "      <td>?</td>\n",
       "      <td>in</td>\n",
       "      <td>Summer</td>\n",
       "      <td>NaN</td>\n",
       "      <td>1 Bundesliga</td>\n",
       "      <td>1992</td>\n",
       "      <td>1992/1993</td>\n",
       "    </tr>\n",
       "  </tbody>\n",
       "</table>\n",
       "</div>"
      ],
      "text/plain": [
       "          club_name     player_name   age            position  \\\n",
       "0  1.FC Saarbrücken  Thomas Stratos  25.0  Defensive Midfield   \n",
       "1  1.FC Saarbrücken   Matthias Lust  22.0       Left Midfield   \n",
       "2  1.FC Saarbrücken  Henning Bürger  22.0       Left Midfield   \n",
       "3  1.FC Saarbrücken  Michael Hennig  20.0            midfield   \n",
       "4  1.FC Saarbrücken     Malik Badji  24.0             defence   \n",
       "\n",
       "  club_involved_name            fee transfer_movement transfer_period  \\\n",
       "0       Hamburger SV        €150Th.                in          Summer   \n",
       "1    Waldh. Mannheim  free transfer                in          Summer   \n",
       "2      FC Schalke 04  free transfer                in          Summer   \n",
       "3          FC Berlin  free transfer                in          Summer   \n",
       "4           CS Sedan              ?                in          Summer   \n",
       "\n",
       "   fee_cleaned   league_name  year     season  \n",
       "0         0.15  1 Bundesliga  1992  1992/1993  \n",
       "1         0.00  1 Bundesliga  1992  1992/1993  \n",
       "2         0.00  1 Bundesliga  1992  1992/1993  \n",
       "3         0.00  1 Bundesliga  1992  1992/1993  \n",
       "4          NaN  1 Bundesliga  1992  1992/1993  "
      ]
     },
     "execution_count": 3,
     "metadata": {},
     "output_type": "execute_result"
    }
   ],
   "source": [
    "data.head()"
   ]
  },
  {
   "cell_type": "code",
   "execution_count": 4,
   "metadata": {},
   "outputs": [
    {
     "name": "stdout",
     "output_type": "stream",
     "text": [
      "<class 'pandas.core.frame.DataFrame'>\n",
      "RangeIndex: 14032 entries, 0 to 14031\n",
      "Data columns (total 12 columns):\n",
      " #   Column              Non-Null Count  Dtype  \n",
      "---  ------              --------------  -----  \n",
      " 0   club_name           14032 non-null  object \n",
      " 1   player_name         14032 non-null  object \n",
      " 2   age                 14030 non-null  float64\n",
      " 3   position            14032 non-null  object \n",
      " 4   club_involved_name  14032 non-null  object \n",
      " 5   fee                 14031 non-null  object \n",
      " 6   transfer_movement   14032 non-null  object \n",
      " 7   transfer_period     14032 non-null  object \n",
      " 8   fee_cleaned         8202 non-null   float64\n",
      " 9   league_name         14032 non-null  object \n",
      " 10  year                14032 non-null  int64  \n",
      " 11  season              14032 non-null  object \n",
      "dtypes: float64(2), int64(1), object(9)\n",
      "memory usage: 1.3+ MB\n"
     ]
    }
   ],
   "source": [
    "data.info()"
   ]
  },
  {
   "cell_type": "code",
   "execution_count": 5,
   "metadata": {},
   "outputs": [
    {
     "data": {
      "text/html": [
       "<div>\n",
       "<style scoped>\n",
       "    .dataframe tbody tr th:only-of-type {\n",
       "        vertical-align: middle;\n",
       "    }\n",
       "\n",
       "    .dataframe tbody tr th {\n",
       "        vertical-align: top;\n",
       "    }\n",
       "\n",
       "    .dataframe thead th {\n",
       "        text-align: right;\n",
       "    }\n",
       "</style>\n",
       "<table border=\"1\" class=\"dataframe\">\n",
       "  <thead>\n",
       "    <tr style=\"text-align: right;\">\n",
       "      <th></th>\n",
       "      <th>age</th>\n",
       "      <th>fee_cleaned</th>\n",
       "      <th>year</th>\n",
       "    </tr>\n",
       "  </thead>\n",
       "  <tbody>\n",
       "    <tr>\n",
       "      <th>count</th>\n",
       "      <td>14030.000000</td>\n",
       "      <td>8202.000000</td>\n",
       "      <td>14032.000000</td>\n",
       "    </tr>\n",
       "    <tr>\n",
       "      <th>mean</th>\n",
       "      <td>24.479615</td>\n",
       "      <td>1.825107</td>\n",
       "      <td>2008.880844</td>\n",
       "    </tr>\n",
       "    <tr>\n",
       "      <th>std</th>\n",
       "      <td>4.389719</td>\n",
       "      <td>5.287139</td>\n",
       "      <td>8.650051</td>\n",
       "    </tr>\n",
       "    <tr>\n",
       "      <th>min</th>\n",
       "      <td>9.000000</td>\n",
       "      <td>0.000000</td>\n",
       "      <td>1992.000000</td>\n",
       "    </tr>\n",
       "    <tr>\n",
       "      <th>25%</th>\n",
       "      <td>21.000000</td>\n",
       "      <td>0.000000</td>\n",
       "      <td>2002.000000</td>\n",
       "    </tr>\n",
       "    <tr>\n",
       "      <th>50%</th>\n",
       "      <td>24.000000</td>\n",
       "      <td>0.175000</td>\n",
       "      <td>2010.000000</td>\n",
       "    </tr>\n",
       "    <tr>\n",
       "      <th>75%</th>\n",
       "      <td>27.000000</td>\n",
       "      <td>1.250000</td>\n",
       "      <td>2016.000000</td>\n",
       "    </tr>\n",
       "    <tr>\n",
       "      <th>max</th>\n",
       "      <td>42.000000</td>\n",
       "      <td>140.000000</td>\n",
       "      <td>2022.000000</td>\n",
       "    </tr>\n",
       "  </tbody>\n",
       "</table>\n",
       "</div>"
      ],
      "text/plain": [
       "                age  fee_cleaned          year\n",
       "count  14030.000000  8202.000000  14032.000000\n",
       "mean      24.479615     1.825107   2008.880844\n",
       "std        4.389719     5.287139      8.650051\n",
       "min        9.000000     0.000000   1992.000000\n",
       "25%       21.000000     0.000000   2002.000000\n",
       "50%       24.000000     0.175000   2010.000000\n",
       "75%       27.000000     1.250000   2016.000000\n",
       "max       42.000000   140.000000   2022.000000"
      ]
     },
     "execution_count": 5,
     "metadata": {},
     "output_type": "execute_result"
    }
   ],
   "source": [
    "data.describe()"
   ]
  },
  {
   "cell_type": "code",
   "execution_count": 6,
   "metadata": {},
   "outputs": [
    {
     "data": {
      "text/html": [
       "<div>\n",
       "<style scoped>\n",
       "    .dataframe tbody tr th:only-of-type {\n",
       "        vertical-align: middle;\n",
       "    }\n",
       "\n",
       "    .dataframe tbody tr th {\n",
       "        vertical-align: top;\n",
       "    }\n",
       "\n",
       "    .dataframe thead th {\n",
       "        text-align: right;\n",
       "    }\n",
       "</style>\n",
       "<table border=\"1\" class=\"dataframe\">\n",
       "  <thead>\n",
       "    <tr style=\"text-align: right;\">\n",
       "      <th></th>\n",
       "      <th>club_name</th>\n",
       "      <th>player_name</th>\n",
       "      <th>age</th>\n",
       "      <th>position</th>\n",
       "      <th>club_involved_name</th>\n",
       "      <th>fee</th>\n",
       "      <th>transfer_movement</th>\n",
       "      <th>transfer_period</th>\n",
       "      <th>fee_cleaned</th>\n",
       "      <th>league_name</th>\n",
       "      <th>year</th>\n",
       "      <th>season</th>\n",
       "    </tr>\n",
       "  </thead>\n",
       "  <tbody>\n",
       "    <tr>\n",
       "      <th>293</th>\n",
       "      <td>VfB Leipzig (- 2004)</td>\n",
       "      <td>Marcel Geißler</td>\n",
       "      <td>9.0</td>\n",
       "      <td>midfield</td>\n",
       "      <td>Unknown</td>\n",
       "      <td>free transfer</td>\n",
       "      <td>in</td>\n",
       "      <td>Summer</td>\n",
       "      <td>0.0</td>\n",
       "      <td>1 Bundesliga</td>\n",
       "      <td>1993</td>\n",
       "      <td>1993/1994</td>\n",
       "    </tr>\n",
       "  </tbody>\n",
       "</table>\n",
       "</div>"
      ],
      "text/plain": [
       "                club_name     player_name  age  position club_involved_name  \\\n",
       "293  VfB Leipzig (- 2004)  Marcel Geißler  9.0  midfield            Unknown   \n",
       "\n",
       "               fee transfer_movement transfer_period  fee_cleaned  \\\n",
       "293  free transfer                in          Summer          0.0   \n",
       "\n",
       "      league_name  year     season  \n",
       "293  1 Bundesliga  1993  1993/1994  "
      ]
     },
     "execution_count": 6,
     "metadata": {},
     "output_type": "execute_result"
    }
   ],
   "source": [
    "#looking at the youngest player\n",
    "data[data[\"age\"] == 9.0]"
   ]
  },
  {
   "cell_type": "code",
   "execution_count": 7,
   "metadata": {},
   "outputs": [
    {
     "data": {
      "text/html": [
       "<div>\n",
       "<style scoped>\n",
       "    .dataframe tbody tr th:only-of-type {\n",
       "        vertical-align: middle;\n",
       "    }\n",
       "\n",
       "    .dataframe tbody tr th {\n",
       "        vertical-align: top;\n",
       "    }\n",
       "\n",
       "    .dataframe thead th {\n",
       "        text-align: right;\n",
       "    }\n",
       "</style>\n",
       "<table border=\"1\" class=\"dataframe\">\n",
       "  <thead>\n",
       "    <tr style=\"text-align: right;\">\n",
       "      <th></th>\n",
       "      <th>club_name</th>\n",
       "      <th>player_name</th>\n",
       "      <th>age</th>\n",
       "      <th>position</th>\n",
       "      <th>club_involved_name</th>\n",
       "      <th>fee</th>\n",
       "      <th>transfer_movement</th>\n",
       "      <th>transfer_period</th>\n",
       "      <th>fee_cleaned</th>\n",
       "      <th>league_name</th>\n",
       "      <th>year</th>\n",
       "      <th>season</th>\n",
       "    </tr>\n",
       "  </thead>\n",
       "  <tbody>\n",
       "    <tr>\n",
       "      <th>10697</th>\n",
       "      <td>Borussia Dortmund</td>\n",
       "      <td>Ousmane Dembélé</td>\n",
       "      <td>20.0</td>\n",
       "      <td>Right Winger</td>\n",
       "      <td>Barcelona</td>\n",
       "      <td>€140.00m</td>\n",
       "      <td>out</td>\n",
       "      <td>Summer</td>\n",
       "      <td>140.0</td>\n",
       "      <td>1 Bundesliga</td>\n",
       "      <td>2017</td>\n",
       "      <td>2017/2018</td>\n",
       "    </tr>\n",
       "    <tr>\n",
       "      <th>11741</th>\n",
       "      <td>Bayern Munich</td>\n",
       "      <td>Lucas Hernández</td>\n",
       "      <td>23.0</td>\n",
       "      <td>Centre-Back</td>\n",
       "      <td>Atlético Madrid</td>\n",
       "      <td>€80.00m</td>\n",
       "      <td>in</td>\n",
       "      <td>Summer</td>\n",
       "      <td>80.0</td>\n",
       "      <td>1 Bundesliga</td>\n",
       "      <td>2019</td>\n",
       "      <td>2019/2020</td>\n",
       "    </tr>\n",
       "    <tr>\n",
       "      <th>12413</th>\n",
       "      <td>Bayer 04 Leverkusen</td>\n",
       "      <td>Kai Havertz</td>\n",
       "      <td>21.0</td>\n",
       "      <td>Attacking Midfield</td>\n",
       "      <td>Chelsea</td>\n",
       "      <td>€80.00m</td>\n",
       "      <td>out</td>\n",
       "      <td>Summer</td>\n",
       "      <td>80.0</td>\n",
       "      <td>1 Bundesliga</td>\n",
       "      <td>2020</td>\n",
       "      <td>2020/2021</td>\n",
       "    </tr>\n",
       "    <tr>\n",
       "      <th>12948</th>\n",
       "      <td>Borussia Dortmund</td>\n",
       "      <td>Jadon Sancho</td>\n",
       "      <td>21.0</td>\n",
       "      <td>Left Winger</td>\n",
       "      <td>Man Utd</td>\n",
       "      <td>€85.00m</td>\n",
       "      <td>out</td>\n",
       "      <td>Summer</td>\n",
       "      <td>85.0</td>\n",
       "      <td>1 Bundesliga</td>\n",
       "      <td>2021</td>\n",
       "      <td>2021/2022</td>\n",
       "    </tr>\n",
       "  </tbody>\n",
       "</table>\n",
       "</div>"
      ],
      "text/plain": [
       "                 club_name      player_name   age            position  \\\n",
       "10697    Borussia Dortmund  Ousmane Dembélé  20.0        Right Winger   \n",
       "11741        Bayern Munich  Lucas Hernández  23.0         Centre-Back   \n",
       "12413  Bayer 04 Leverkusen      Kai Havertz  21.0  Attacking Midfield   \n",
       "12948    Borussia Dortmund     Jadon Sancho  21.0         Left Winger   \n",
       "\n",
       "      club_involved_name       fee transfer_movement transfer_period  \\\n",
       "10697          Barcelona  €140.00m               out          Summer   \n",
       "11741    Atlético Madrid   €80.00m                in          Summer   \n",
       "12413            Chelsea   €80.00m               out          Summer   \n",
       "12948            Man Utd   €85.00m               out          Summer   \n",
       "\n",
       "       fee_cleaned   league_name  year     season  \n",
       "10697        140.0  1 Bundesliga  2017  2017/2018  \n",
       "11741         80.0  1 Bundesliga  2019  2019/2020  \n",
       "12413         80.0  1 Bundesliga  2020  2020/2021  \n",
       "12948         85.0  1 Bundesliga  2021  2021/2022  "
      ]
     },
     "execution_count": 7,
     "metadata": {},
     "output_type": "execute_result"
    }
   ],
   "source": [
    "#looking at the highest transfer amounts\n",
    "data[data[\"fee_cleaned\"] >= 80.0]"
   ]
  },
  {
   "cell_type": "code",
   "execution_count": 8,
   "metadata": {},
   "outputs": [
    {
     "data": {
      "text/plain": [
       "0"
      ]
     },
     "execution_count": 8,
     "metadata": {},
     "output_type": "execute_result"
    }
   ],
   "source": [
    "#checking for duplicates\n",
    "data.duplicated(keep = False).sum()"
   ]
  },
  {
   "cell_type": "code",
   "execution_count": 9,
   "metadata": {},
   "outputs": [
    {
     "data": {
      "text/plain": [
       "club_name                0\n",
       "player_name              0\n",
       "age                      2\n",
       "position                 0\n",
       "club_involved_name       0\n",
       "fee                      1\n",
       "transfer_movement        0\n",
       "transfer_period          0\n",
       "fee_cleaned           5830\n",
       "league_name              0\n",
       "year                     0\n",
       "season                   0\n",
       "dtype: int64"
      ]
     },
     "execution_count": 9,
     "metadata": {},
     "output_type": "execute_result"
    }
   ],
   "source": [
    "#checking null columns\n",
    "data.isnull().sum()"
   ]
  },
  {
   "cell_type": "code",
   "execution_count": 10,
   "metadata": {},
   "outputs": [
    {
     "data": {
      "text/html": [
       "<div>\n",
       "<style scoped>\n",
       "    .dataframe tbody tr th:only-of-type {\n",
       "        vertical-align: middle;\n",
       "    }\n",
       "\n",
       "    .dataframe tbody tr th {\n",
       "        vertical-align: top;\n",
       "    }\n",
       "\n",
       "    .dataframe thead th {\n",
       "        text-align: right;\n",
       "    }\n",
       "</style>\n",
       "<table border=\"1\" class=\"dataframe\">\n",
       "  <thead>\n",
       "    <tr style=\"text-align: right;\">\n",
       "      <th></th>\n",
       "      <th>club_name</th>\n",
       "      <th>player_name</th>\n",
       "      <th>age</th>\n",
       "      <th>position</th>\n",
       "      <th>club_involved_name</th>\n",
       "      <th>fee</th>\n",
       "      <th>transfer_movement</th>\n",
       "      <th>transfer_period</th>\n",
       "      <th>fee_cleaned</th>\n",
       "      <th>league_name</th>\n",
       "      <th>year</th>\n",
       "      <th>season</th>\n",
       "    </tr>\n",
       "  </thead>\n",
       "  <tbody>\n",
       "    <tr>\n",
       "      <th>4</th>\n",
       "      <td>1.FC Saarbrücken</td>\n",
       "      <td>Malik Badji</td>\n",
       "      <td>24.0</td>\n",
       "      <td>defence</td>\n",
       "      <td>CS Sedan</td>\n",
       "      <td>?</td>\n",
       "      <td>in</td>\n",
       "      <td>Summer</td>\n",
       "      <td>NaN</td>\n",
       "      <td>1 Bundesliga</td>\n",
       "      <td>1992</td>\n",
       "      <td>1992/1993</td>\n",
       "    </tr>\n",
       "    <tr>\n",
       "      <th>5</th>\n",
       "      <td>1.FC Saarbrücken</td>\n",
       "      <td>Patrick Klyk</td>\n",
       "      <td>16.0</td>\n",
       "      <td>midfield</td>\n",
       "      <td>FV 08 Püttlingen</td>\n",
       "      <td>?</td>\n",
       "      <td>in</td>\n",
       "      <td>Summer</td>\n",
       "      <td>NaN</td>\n",
       "      <td>1 Bundesliga</td>\n",
       "      <td>1992</td>\n",
       "      <td>1992/1993</td>\n",
       "    </tr>\n",
       "    <tr>\n",
       "      <th>6</th>\n",
       "      <td>1.FC Saarbrücken</td>\n",
       "      <td>Stephan Beckenbauer</td>\n",
       "      <td>23.0</td>\n",
       "      <td>Defensive Midfield</td>\n",
       "      <td>FC Grenchen</td>\n",
       "      <td>?</td>\n",
       "      <td>in</td>\n",
       "      <td>Summer</td>\n",
       "      <td>NaN</td>\n",
       "      <td>1 Bundesliga</td>\n",
       "      <td>1992</td>\n",
       "      <td>1992/1993</td>\n",
       "    </tr>\n",
       "    <tr>\n",
       "      <th>7</th>\n",
       "      <td>1.FC Saarbrücken</td>\n",
       "      <td>Ralf Scherer</td>\n",
       "      <td>28.0</td>\n",
       "      <td>Defensive Midfield</td>\n",
       "      <td>SV Saar 05</td>\n",
       "      <td>?</td>\n",
       "      <td>in</td>\n",
       "      <td>Summer</td>\n",
       "      <td>NaN</td>\n",
       "      <td>1 Bundesliga</td>\n",
       "      <td>1992</td>\n",
       "      <td>1992/1993</td>\n",
       "    </tr>\n",
       "    <tr>\n",
       "      <th>8</th>\n",
       "      <td>1.FC Saarbrücken</td>\n",
       "      <td>Arno Glesius</td>\n",
       "      <td>26.0</td>\n",
       "      <td>Centre-Forward</td>\n",
       "      <td>Karlsruher SC</td>\n",
       "      <td>?</td>\n",
       "      <td>in</td>\n",
       "      <td>Summer</td>\n",
       "      <td>NaN</td>\n",
       "      <td>1 Bundesliga</td>\n",
       "      <td>1992</td>\n",
       "      <td>1992/1993</td>\n",
       "    </tr>\n",
       "    <tr>\n",
       "      <th>...</th>\n",
       "      <td>...</td>\n",
       "      <td>...</td>\n",
       "      <td>...</td>\n",
       "      <td>...</td>\n",
       "      <td>...</td>\n",
       "      <td>...</td>\n",
       "      <td>...</td>\n",
       "      <td>...</td>\n",
       "      <td>...</td>\n",
       "      <td>...</td>\n",
       "      <td>...</td>\n",
       "      <td>...</td>\n",
       "    </tr>\n",
       "    <tr>\n",
       "      <th>14027</th>\n",
       "      <td>SV Werder Bremen</td>\n",
       "      <td>Oscar Schönfelder</td>\n",
       "      <td>21.0</td>\n",
       "      <td>Left Winger</td>\n",
       "      <td>Jahn Regensburg</td>\n",
       "      <td>loan transfer</td>\n",
       "      <td>out</td>\n",
       "      <td>summer</td>\n",
       "      <td>NaN</td>\n",
       "      <td>1 Bundesliga</td>\n",
       "      <td>2022</td>\n",
       "      <td>2022/2023</td>\n",
       "    </tr>\n",
       "    <tr>\n",
       "      <th>14028</th>\n",
       "      <td>SV Werder Bremen</td>\n",
       "      <td>Luca Plogmann</td>\n",
       "      <td>22.0</td>\n",
       "      <td>Goalkeeper</td>\n",
       "      <td>Without Club</td>\n",
       "      <td>-</td>\n",
       "      <td>out</td>\n",
       "      <td>summer</td>\n",
       "      <td>NaN</td>\n",
       "      <td>1 Bundesliga</td>\n",
       "      <td>2022</td>\n",
       "      <td>2022/2023</td>\n",
       "    </tr>\n",
       "    <tr>\n",
       "      <th>14029</th>\n",
       "      <td>SV Werder Bremen</td>\n",
       "      <td>Mitchell Weiser</td>\n",
       "      <td>28.0</td>\n",
       "      <td>Right-Back</td>\n",
       "      <td>Bay. Leverkusen</td>\n",
       "      <td>End of loanJun 30, 2022</td>\n",
       "      <td>out</td>\n",
       "      <td>summer</td>\n",
       "      <td>NaN</td>\n",
       "      <td>1 Bundesliga</td>\n",
       "      <td>2022</td>\n",
       "      <td>2022/2023</td>\n",
       "    </tr>\n",
       "    <tr>\n",
       "      <th>14030</th>\n",
       "      <td>SV Werder Bremen</td>\n",
       "      <td>Roger Assalé</td>\n",
       "      <td>28.0</td>\n",
       "      <td>Centre-Forward</td>\n",
       "      <td>Dijon</td>\n",
       "      <td>End of loanJun 30, 2022</td>\n",
       "      <td>out</td>\n",
       "      <td>summer</td>\n",
       "      <td>NaN</td>\n",
       "      <td>1 Bundesliga</td>\n",
       "      <td>2022</td>\n",
       "      <td>2022/2023</td>\n",
       "    </tr>\n",
       "    <tr>\n",
       "      <th>14031</th>\n",
       "      <td>SV Werder Bremen</td>\n",
       "      <td>Lars Lukas Mai</td>\n",
       "      <td>22.0</td>\n",
       "      <td>Centre-Back</td>\n",
       "      <td>Bayern Munich</td>\n",
       "      <td>End of loanJun 30, 2022</td>\n",
       "      <td>out</td>\n",
       "      <td>summer</td>\n",
       "      <td>NaN</td>\n",
       "      <td>1 Bundesliga</td>\n",
       "      <td>2022</td>\n",
       "      <td>2022/2023</td>\n",
       "    </tr>\n",
       "  </tbody>\n",
       "</table>\n",
       "<p>5830 rows × 12 columns</p>\n",
       "</div>"
      ],
      "text/plain": [
       "              club_name          player_name   age            position  \\\n",
       "4      1.FC Saarbrücken          Malik Badji  24.0             defence   \n",
       "5      1.FC Saarbrücken         Patrick Klyk  16.0            midfield   \n",
       "6      1.FC Saarbrücken  Stephan Beckenbauer  23.0  Defensive Midfield   \n",
       "7      1.FC Saarbrücken         Ralf Scherer  28.0  Defensive Midfield   \n",
       "8      1.FC Saarbrücken         Arno Glesius  26.0      Centre-Forward   \n",
       "...                 ...                  ...   ...                 ...   \n",
       "14027  SV Werder Bremen    Oscar Schönfelder  21.0         Left Winger   \n",
       "14028  SV Werder Bremen        Luca Plogmann  22.0          Goalkeeper   \n",
       "14029  SV Werder Bremen      Mitchell Weiser  28.0          Right-Back   \n",
       "14030  SV Werder Bremen         Roger Assalé  28.0      Centre-Forward   \n",
       "14031  SV Werder Bremen       Lars Lukas Mai  22.0         Centre-Back   \n",
       "\n",
       "      club_involved_name                      fee transfer_movement  \\\n",
       "4               CS Sedan                        ?                in   \n",
       "5       FV 08 Püttlingen                        ?                in   \n",
       "6            FC Grenchen                        ?                in   \n",
       "7             SV Saar 05                        ?                in   \n",
       "8          Karlsruher SC                        ?                in   \n",
       "...                  ...                      ...               ...   \n",
       "14027    Jahn Regensburg            loan transfer               out   \n",
       "14028       Without Club                        -               out   \n",
       "14029    Bay. Leverkusen  End of loanJun 30, 2022               out   \n",
       "14030              Dijon  End of loanJun 30, 2022               out   \n",
       "14031      Bayern Munich  End of loanJun 30, 2022               out   \n",
       "\n",
       "      transfer_period  fee_cleaned   league_name  year     season  \n",
       "4              Summer          NaN  1 Bundesliga  1992  1992/1993  \n",
       "5              Summer          NaN  1 Bundesliga  1992  1992/1993  \n",
       "6              Summer          NaN  1 Bundesliga  1992  1992/1993  \n",
       "7              Summer          NaN  1 Bundesliga  1992  1992/1993  \n",
       "8              Summer          NaN  1 Bundesliga  1992  1992/1993  \n",
       "...               ...          ...           ...   ...        ...  \n",
       "14027          summer          NaN  1 Bundesliga  2022  2022/2023  \n",
       "14028          summer          NaN  1 Bundesliga  2022  2022/2023  \n",
       "14029          summer          NaN  1 Bundesliga  2022  2022/2023  \n",
       "14030          summer          NaN  1 Bundesliga  2022  2022/2023  \n",
       "14031          summer          NaN  1 Bundesliga  2022  2022/2023  \n",
       "\n",
       "[5830 rows x 12 columns]"
      ]
     },
     "execution_count": 10,
     "metadata": {},
     "output_type": "execute_result"
    }
   ],
   "source": [
    "data[data.fee_cleaned.isnull()]"
   ]
  },
  {
   "cell_type": "code",
   "execution_count": 11,
   "metadata": {},
   "outputs": [
    {
     "data": {
      "text/plain": [
       "44"
      ]
     },
     "execution_count": 11,
     "metadata": {},
     "output_type": "execute_result"
    }
   ],
   "source": [
    "#checking number of unique teams in the bundesliga\n",
    "len(data.club_name.value_counts())"
   ]
  },
  {
   "cell_type": "code",
   "execution_count": 12,
   "metadata": {},
   "outputs": [
    {
     "data": {
      "text/plain": [
       "free transfer              3347\n",
       "-                          1935\n",
       "loan transfer              1274\n",
       "?                           671\n",
       "€500Th.                     227\n",
       "                           ... \n",
       "Loan fee:€35Th.               1\n",
       "End of loanJan 30, 2010       1\n",
       "End of loanJan 27, 2010       1\n",
       "€460Th.                       1\n",
       "End of loanAug 31, 2022       1\n",
       "Name: fee, Length: 592, dtype: int64"
      ]
     },
     "execution_count": 12,
     "metadata": {},
     "output_type": "execute_result"
    }
   ],
   "source": [
    "#checking clubs receiving trade\n",
    "data.fee.value_counts()"
   ]
  },
  {
   "cell_type": "code",
   "execution_count": 13,
   "metadata": {},
   "outputs": [
    {
     "data": {
      "text/plain": [
       "in     7117\n",
       "out    6915\n",
       "Name: transfer_movement, dtype: int64"
      ]
     },
     "execution_count": 13,
     "metadata": {},
     "output_type": "execute_result"
    }
   ],
   "source": [
    "data.transfer_movement.value_counts()"
   ]
  },
  {
   "cell_type": "code",
   "execution_count": 14,
   "metadata": {},
   "outputs": [
    {
     "data": {
      "text/plain": [
       "Summer    10865\n",
       "Winter     2628\n",
       "summer      539\n",
       "Name: transfer_period, dtype: int64"
      ]
     },
     "execution_count": 14,
     "metadata": {},
     "output_type": "execute_result"
    }
   ],
   "source": [
    "data.transfer_period.value_counts()"
   ]
  },
  {
   "cell_type": "markdown",
   "metadata": {},
   "source": [
    "### Issues:\n",
    "- `club_names` has some numbers in them\n",
    "- NaN values in `fee_cleaned` column\n",
    "- three `transfer_periods` (summer, Summer, Winter)\n",
    "- ages need to be put in bins\n",
    "- unnecessary `league_name` column"
   ]
  },
  {
   "cell_type": "markdown",
   "metadata": {},
   "source": [
    "## Data Cleaning"
   ]
  },
  {
   "cell_type": "markdown",
   "metadata": {},
   "source": [
    "### Issue 1: numbers in `club_names` columns\n",
    "\n",
    "#### Code"
   ]
  },
  {
   "cell_type": "code",
   "execution_count": 15,
   "metadata": {},
   "outputs": [],
   "source": [
    "#creating a copy of dataframe to clean\n",
    "df = data.copy()"
   ]
  },
  {
   "cell_type": "code",
   "execution_count": 16,
   "metadata": {},
   "outputs": [
    {
     "name": "stderr",
     "output_type": "stream",
     "text": [
      "C:\\Users\\Volker\\AppData\\Local\\Temp\\ipykernel_12628\\3567881580.py:1: FutureWarning: The default value of regex will change from True to False in a future version.\n",
      "  df[\"club_name\"] = df[\"club_name\"].str.replace(\"1.\", \"\").str.strip()\n"
     ]
    }
   ],
   "source": [
    "df[\"club_name\"] = df[\"club_name\"].str.replace(\"1.\", \"\").str.strip()"
   ]
  },
  {
   "cell_type": "markdown",
   "metadata": {},
   "source": [
    "#### Test"
   ]
  },
  {
   "cell_type": "code",
   "execution_count": 17,
   "metadata": {},
   "outputs": [
    {
     "data": {
      "text/plain": [
       "0"
      ]
     },
     "execution_count": 17,
     "metadata": {},
     "output_type": "execute_result"
    }
   ],
   "source": [
    "df.club_name.str.contains(\"1.\").sum()"
   ]
  },
  {
   "cell_type": "code",
   "execution_count": 18,
   "metadata": {},
   "outputs": [
    {
     "data": {
      "text/html": [
       "<div>\n",
       "<style scoped>\n",
       "    .dataframe tbody tr th:only-of-type {\n",
       "        vertical-align: middle;\n",
       "    }\n",
       "\n",
       "    .dataframe tbody tr th {\n",
       "        vertical-align: top;\n",
       "    }\n",
       "\n",
       "    .dataframe thead th {\n",
       "        text-align: right;\n",
       "    }\n",
       "</style>\n",
       "<table border=\"1\" class=\"dataframe\">\n",
       "  <thead>\n",
       "    <tr style=\"text-align: right;\">\n",
       "      <th></th>\n",
       "      <th>club_name</th>\n",
       "      <th>player_name</th>\n",
       "      <th>age</th>\n",
       "      <th>position</th>\n",
       "      <th>club_involved_name</th>\n",
       "      <th>fee</th>\n",
       "      <th>transfer_movement</th>\n",
       "      <th>transfer_period</th>\n",
       "      <th>fee_cleaned</th>\n",
       "      <th>league_name</th>\n",
       "      <th>year</th>\n",
       "      <th>season</th>\n",
       "    </tr>\n",
       "  </thead>\n",
       "  <tbody>\n",
       "    <tr>\n",
       "      <th>0</th>\n",
       "      <td>FC Saarbrücken</td>\n",
       "      <td>Thomas Stratos</td>\n",
       "      <td>25.0</td>\n",
       "      <td>Defensive Midfield</td>\n",
       "      <td>Hamburger SV</td>\n",
       "      <td>€150Th.</td>\n",
       "      <td>in</td>\n",
       "      <td>Summer</td>\n",
       "      <td>0.15</td>\n",
       "      <td>1 Bundesliga</td>\n",
       "      <td>1992</td>\n",
       "      <td>1992/1993</td>\n",
       "    </tr>\n",
       "    <tr>\n",
       "      <th>1</th>\n",
       "      <td>FC Saarbrücken</td>\n",
       "      <td>Matthias Lust</td>\n",
       "      <td>22.0</td>\n",
       "      <td>Left Midfield</td>\n",
       "      <td>Waldh. Mannheim</td>\n",
       "      <td>free transfer</td>\n",
       "      <td>in</td>\n",
       "      <td>Summer</td>\n",
       "      <td>0.00</td>\n",
       "      <td>1 Bundesliga</td>\n",
       "      <td>1992</td>\n",
       "      <td>1992/1993</td>\n",
       "    </tr>\n",
       "    <tr>\n",
       "      <th>2</th>\n",
       "      <td>FC Saarbrücken</td>\n",
       "      <td>Henning Bürger</td>\n",
       "      <td>22.0</td>\n",
       "      <td>Left Midfield</td>\n",
       "      <td>FC Schalke 04</td>\n",
       "      <td>free transfer</td>\n",
       "      <td>in</td>\n",
       "      <td>Summer</td>\n",
       "      <td>0.00</td>\n",
       "      <td>1 Bundesliga</td>\n",
       "      <td>1992</td>\n",
       "      <td>1992/1993</td>\n",
       "    </tr>\n",
       "    <tr>\n",
       "      <th>3</th>\n",
       "      <td>FC Saarbrücken</td>\n",
       "      <td>Michael Hennig</td>\n",
       "      <td>20.0</td>\n",
       "      <td>midfield</td>\n",
       "      <td>FC Berlin</td>\n",
       "      <td>free transfer</td>\n",
       "      <td>in</td>\n",
       "      <td>Summer</td>\n",
       "      <td>0.00</td>\n",
       "      <td>1 Bundesliga</td>\n",
       "      <td>1992</td>\n",
       "      <td>1992/1993</td>\n",
       "    </tr>\n",
       "    <tr>\n",
       "      <th>4</th>\n",
       "      <td>FC Saarbrücken</td>\n",
       "      <td>Malik Badji</td>\n",
       "      <td>24.0</td>\n",
       "      <td>defence</td>\n",
       "      <td>CS Sedan</td>\n",
       "      <td>?</td>\n",
       "      <td>in</td>\n",
       "      <td>Summer</td>\n",
       "      <td>NaN</td>\n",
       "      <td>1 Bundesliga</td>\n",
       "      <td>1992</td>\n",
       "      <td>1992/1993</td>\n",
       "    </tr>\n",
       "  </tbody>\n",
       "</table>\n",
       "</div>"
      ],
      "text/plain": [
       "        club_name     player_name   age            position  \\\n",
       "0  FC Saarbrücken  Thomas Stratos  25.0  Defensive Midfield   \n",
       "1  FC Saarbrücken   Matthias Lust  22.0       Left Midfield   \n",
       "2  FC Saarbrücken  Henning Bürger  22.0       Left Midfield   \n",
       "3  FC Saarbrücken  Michael Hennig  20.0            midfield   \n",
       "4  FC Saarbrücken     Malik Badji  24.0             defence   \n",
       "\n",
       "  club_involved_name            fee transfer_movement transfer_period  \\\n",
       "0       Hamburger SV        €150Th.                in          Summer   \n",
       "1    Waldh. Mannheim  free transfer                in          Summer   \n",
       "2      FC Schalke 04  free transfer                in          Summer   \n",
       "3          FC Berlin  free transfer                in          Summer   \n",
       "4           CS Sedan              ?                in          Summer   \n",
       "\n",
       "   fee_cleaned   league_name  year     season  \n",
       "0         0.15  1 Bundesliga  1992  1992/1993  \n",
       "1         0.00  1 Bundesliga  1992  1992/1993  \n",
       "2         0.00  1 Bundesliga  1992  1992/1993  \n",
       "3         0.00  1 Bundesliga  1992  1992/1993  \n",
       "4          NaN  1 Bundesliga  1992  1992/1993  "
      ]
     },
     "execution_count": 18,
     "metadata": {},
     "output_type": "execute_result"
    }
   ],
   "source": [
    "df.head()"
   ]
  },
  {
   "cell_type": "markdown",
   "metadata": {},
   "source": [
    "### Issue 2: NaN values in `fee_cleaned` column\n",
    "#### Remark: Upon inspection, it turns out the NaN values could be dropped or left unchanged. I chose to keep these rows"
   ]
  },
  {
   "cell_type": "markdown",
   "metadata": {},
   "source": [
    "#### Code"
   ]
  },
  {
   "cell_type": "markdown",
   "metadata": {},
   "source": [
    "### Issue 3: three `transfer_periods` (summer, Summer, Winter)\n",
    "\n",
    "#### Code : replace \"summer\" with \"Summer\""
   ]
  },
  {
   "cell_type": "code",
   "execution_count": 19,
   "metadata": {},
   "outputs": [],
   "source": [
    "df[\"transfer_period\"] = df.transfer_period.str.replace(\"summer\", \"Summer\")"
   ]
  },
  {
   "cell_type": "markdown",
   "metadata": {},
   "source": [
    "#### Test"
   ]
  },
  {
   "cell_type": "code",
   "execution_count": 20,
   "metadata": {},
   "outputs": [
    {
     "data": {
      "text/plain": [
       "Summer    11404\n",
       "Winter     2628\n",
       "Name: transfer_period, dtype: int64"
      ]
     },
     "execution_count": 20,
     "metadata": {},
     "output_type": "execute_result"
    }
   ],
   "source": [
    "df.transfer_period.value_counts()"
   ]
  },
  {
   "cell_type": "markdown",
   "metadata": {},
   "source": [
    "### Issue 4: `ages` not in bins\n",
    "\n",
    "#### Code: create new `age_groups` column based on `age` column"
   ]
  },
  {
   "cell_type": "code",
   "execution_count": 40,
   "metadata": {},
   "outputs": [],
   "source": [
    "df[\"age_group\"] = pd.cut(x = df[\"age\"], bins = [0, 5, 10, 15, 20, 25, 30, 35, 40, 45, 50],  labels = [\"0 to 5\", \"6 to 10\", \"11 to 15\", \"16 to 20\", \"21 - 25\", \"26 - 30\", \"31 - 35\", \"36 - 40\", \"41 to 45\", \"46 - 50\"])"
   ]
  },
  {
   "cell_type": "markdown",
   "metadata": {},
   "source": [
    "#### Test"
   ]
  },
  {
   "cell_type": "code",
   "execution_count": 41,
   "metadata": {},
   "outputs": [
    {
     "data": {
      "text/plain": [
       "21 - 25     5915\n",
       "26 - 30     3825\n",
       "16 to 20    2855\n",
       "31 - 35     1256\n",
       "36 - 40      170\n",
       "41 to 45       5\n",
       "11 to 15       3\n",
       "6 to 10        1\n",
       "0 to 5         0\n",
       "46 - 50        0\n",
       "Name: age_group, dtype: int64"
      ]
     },
     "execution_count": 41,
     "metadata": {},
     "output_type": "execute_result"
    }
   ],
   "source": [
    "df.age_group.value_counts()"
   ]
  },
  {
   "cell_type": "code",
   "execution_count": 23,
   "metadata": {},
   "outputs": [
    {
     "data": {
      "text/html": [
       "<div>\n",
       "<style scoped>\n",
       "    .dataframe tbody tr th:only-of-type {\n",
       "        vertical-align: middle;\n",
       "    }\n",
       "\n",
       "    .dataframe tbody tr th {\n",
       "        vertical-align: top;\n",
       "    }\n",
       "\n",
       "    .dataframe thead th {\n",
       "        text-align: right;\n",
       "    }\n",
       "</style>\n",
       "<table border=\"1\" class=\"dataframe\">\n",
       "  <thead>\n",
       "    <tr style=\"text-align: right;\">\n",
       "      <th></th>\n",
       "      <th>club_name</th>\n",
       "      <th>player_name</th>\n",
       "      <th>age</th>\n",
       "      <th>position</th>\n",
       "      <th>club_involved_name</th>\n",
       "      <th>fee</th>\n",
       "      <th>transfer_movement</th>\n",
       "      <th>transfer_period</th>\n",
       "      <th>fee_cleaned</th>\n",
       "      <th>league_name</th>\n",
       "      <th>year</th>\n",
       "      <th>season</th>\n",
       "      <th>age_group</th>\n",
       "    </tr>\n",
       "  </thead>\n",
       "  <tbody>\n",
       "    <tr>\n",
       "      <th>0</th>\n",
       "      <td>FC Saarbrücken</td>\n",
       "      <td>Thomas Stratos</td>\n",
       "      <td>25.0</td>\n",
       "      <td>Defensive Midfield</td>\n",
       "      <td>Hamburger SV</td>\n",
       "      <td>€150Th.</td>\n",
       "      <td>in</td>\n",
       "      <td>Summer</td>\n",
       "      <td>0.15</td>\n",
       "      <td>1 Bundesliga</td>\n",
       "      <td>1992</td>\n",
       "      <td>1992/1993</td>\n",
       "      <td>21 to 30</td>\n",
       "    </tr>\n",
       "    <tr>\n",
       "      <th>1</th>\n",
       "      <td>FC Saarbrücken</td>\n",
       "      <td>Matthias Lust</td>\n",
       "      <td>22.0</td>\n",
       "      <td>Left Midfield</td>\n",
       "      <td>Waldh. Mannheim</td>\n",
       "      <td>free transfer</td>\n",
       "      <td>in</td>\n",
       "      <td>Summer</td>\n",
       "      <td>0.00</td>\n",
       "      <td>1 Bundesliga</td>\n",
       "      <td>1992</td>\n",
       "      <td>1992/1993</td>\n",
       "      <td>21 to 30</td>\n",
       "    </tr>\n",
       "    <tr>\n",
       "      <th>2</th>\n",
       "      <td>FC Saarbrücken</td>\n",
       "      <td>Henning Bürger</td>\n",
       "      <td>22.0</td>\n",
       "      <td>Left Midfield</td>\n",
       "      <td>FC Schalke 04</td>\n",
       "      <td>free transfer</td>\n",
       "      <td>in</td>\n",
       "      <td>Summer</td>\n",
       "      <td>0.00</td>\n",
       "      <td>1 Bundesliga</td>\n",
       "      <td>1992</td>\n",
       "      <td>1992/1993</td>\n",
       "      <td>21 to 30</td>\n",
       "    </tr>\n",
       "    <tr>\n",
       "      <th>3</th>\n",
       "      <td>FC Saarbrücken</td>\n",
       "      <td>Michael Hennig</td>\n",
       "      <td>20.0</td>\n",
       "      <td>midfield</td>\n",
       "      <td>FC Berlin</td>\n",
       "      <td>free transfer</td>\n",
       "      <td>in</td>\n",
       "      <td>Summer</td>\n",
       "      <td>0.00</td>\n",
       "      <td>1 Bundesliga</td>\n",
       "      <td>1992</td>\n",
       "      <td>1992/1993</td>\n",
       "      <td>11 to 20</td>\n",
       "    </tr>\n",
       "    <tr>\n",
       "      <th>4</th>\n",
       "      <td>FC Saarbrücken</td>\n",
       "      <td>Malik Badji</td>\n",
       "      <td>24.0</td>\n",
       "      <td>defence</td>\n",
       "      <td>CS Sedan</td>\n",
       "      <td>?</td>\n",
       "      <td>in</td>\n",
       "      <td>Summer</td>\n",
       "      <td>NaN</td>\n",
       "      <td>1 Bundesliga</td>\n",
       "      <td>1992</td>\n",
       "      <td>1992/1993</td>\n",
       "      <td>21 to 30</td>\n",
       "    </tr>\n",
       "  </tbody>\n",
       "</table>\n",
       "</div>"
      ],
      "text/plain": [
       "        club_name     player_name   age            position  \\\n",
       "0  FC Saarbrücken  Thomas Stratos  25.0  Defensive Midfield   \n",
       "1  FC Saarbrücken   Matthias Lust  22.0       Left Midfield   \n",
       "2  FC Saarbrücken  Henning Bürger  22.0       Left Midfield   \n",
       "3  FC Saarbrücken  Michael Hennig  20.0            midfield   \n",
       "4  FC Saarbrücken     Malik Badji  24.0             defence   \n",
       "\n",
       "  club_involved_name            fee transfer_movement transfer_period  \\\n",
       "0       Hamburger SV        €150Th.                in          Summer   \n",
       "1    Waldh. Mannheim  free transfer                in          Summer   \n",
       "2      FC Schalke 04  free transfer                in          Summer   \n",
       "3          FC Berlin  free transfer                in          Summer   \n",
       "4           CS Sedan              ?                in          Summer   \n",
       "\n",
       "   fee_cleaned   league_name  year     season age_group  \n",
       "0         0.15  1 Bundesliga  1992  1992/1993  21 to 30  \n",
       "1         0.00  1 Bundesliga  1992  1992/1993  21 to 30  \n",
       "2         0.00  1 Bundesliga  1992  1992/1993  21 to 30  \n",
       "3         0.00  1 Bundesliga  1992  1992/1993  11 to 20  \n",
       "4          NaN  1 Bundesliga  1992  1992/1993  21 to 30  "
      ]
     },
     "execution_count": 23,
     "metadata": {},
     "output_type": "execute_result"
    }
   ],
   "source": [
    "df.head()"
   ]
  },
  {
   "cell_type": "code",
   "execution_count": 24,
   "metadata": {},
   "outputs": [
    {
     "data": {
      "text/plain": [
       "2021    605\n",
       "2019    583\n",
       "2015    572\n",
       "2012    566\n",
       "2020    564\n",
       "2018    558\n",
       "2016    550\n",
       "2017    545\n",
       "2014    543\n",
       "2022    539\n",
       "Name: year, dtype: int64"
      ]
     },
     "metadata": {},
     "output_type": "display_data"
    },
    {
     "data": {
      "text/plain": [
       "1994    330\n",
       "1995    329\n",
       "1997    322\n",
       "1993    302\n",
       "1992    273\n",
       "Name: year, dtype: int64"
      ]
     },
     "metadata": {},
     "output_type": "display_data"
    }
   ],
   "source": [
    "display(df.year.value_counts().head(10), df.year.value_counts().tail(5))"
   ]
  },
  {
   "cell_type": "markdown",
   "metadata": {},
   "source": [
    "## Data Visualisation"
   ]
  },
  {
   "cell_type": "markdown",
   "metadata": {},
   "source": [
    "### Univariate Exploration"
   ]
  },
  {
   "cell_type": "code",
   "execution_count": 25,
   "metadata": {},
   "outputs": [],
   "source": [
    "color = sns.color_palette()[0]"
   ]
  },
  {
   "cell_type": "code",
   "execution_count": 26,
   "metadata": {},
   "outputs": [
    {
     "data": {
      "image/png": "[encoded data removed]",
      "text/plain": [
       "<Figure size 432x288 with 1 Axes>"
      ]
     },
     "metadata": {
      "needs_background": "dark"
     },
     "output_type": "display_data"
    }
   ],
   "source": [
    "plt.hist(x = \"fee_cleaned\", data = df, bins = 50);"
   ]
  },
  {
   "cell_type": "code",
   "execution_count": 27,
   "metadata": {},
   "outputs": [
    {
     "data": {
      "image/png": "[encoded data removed]",
      "text/plain": [
       "<Figure size 432x288 with 1 Axes>"
      ]
     },
     "metadata": {
      "needs_background": "dark"
     },
     "output_type": "display_data"
    }
   ],
   "source": [
    "#zooming in on the portion of the histogram with most values\n",
    "plt.hist(x = \"fee_cleaned\", data = df, bins = 50)\n",
    "plt.xlim(0, 50)\n",
    "plt.xticks(np.arange(0, 55, 5));\n",
    "#plt.xscale(\"log\");"
   ]
  },
  {
   "cell_type": "code",
   "execution_count": 45,
   "metadata": {},
   "outputs": [
    {
     "data": {
      "image/png": "[encoded data removed]",
      "text/plain": [
       "<Figure size 432x288 with 1 Axes>"
      ]
     },
     "metadata": {
      "needs_background": "dark"
     },
     "output_type": "display_data"
    }
   ],
   "source": [
    "sns.countplot(y = \"age_group\", data = df, color = color);"
   ]
  },
  {
   "cell_type": "code",
   "execution_count": 46,
   "metadata": {},
   "outputs": [
    {
     "data": {
      "image/png": "[encoded data removed]",
      "text/plain": [
       "<Figure size 432x288 with 1 Axes>"
      ]
     },
     "metadata": {
      "needs_background": "dark"
     },
     "output_type": "display_data"
    }
   ],
   "source": [
    "#grouping the data by year and visualising the number of transfers over time\n",
    "years = df.groupby(by = \"year\").size()\n",
    "years.plot();"
   ]
  },
  {
   "cell_type": "code",
   "execution_count": 30,
   "metadata": {},
   "outputs": [
    {
     "data": {
      "image/png": "[encoded data removed]",
      "text/plain": [
       "<Figure size 432x288 with 1 Axes>"
      ]
     },
     "metadata": {
      "needs_background": "dark"
     },
     "output_type": "display_data"
    }
   ],
   "source": [
    "#comparing the total amounts spent on transfers over time\n",
    "year_sum = df.groupby(by = \"year\")[\"fee_cleaned\"].sum().reset_index()\n",
    "sns.lineplot(x = \"year\", y = \"fee_cleaned\", data = year_sum);"
   ]
  },
  {
   "cell_type": "code",
   "execution_count": 31,
   "metadata": {},
   "outputs": [
    {
     "data": {
      "text/html": [
       "<div>\n",
       "<style scoped>\n",
       "    .dataframe tbody tr th:only-of-type {\n",
       "        vertical-align: middle;\n",
       "    }\n",
       "\n",
       "    .dataframe tbody tr th {\n",
       "        vertical-align: top;\n",
       "    }\n",
       "\n",
       "    .dataframe thead th {\n",
       "        text-align: right;\n",
       "    }\n",
       "</style>\n",
       "<table border=\"1\" class=\"dataframe\">\n",
       "  <thead>\n",
       "    <tr style=\"text-align: right;\">\n",
       "      <th></th>\n",
       "      <th>year</th>\n",
       "      <th>fee_cleaned</th>\n",
       "    </tr>\n",
       "  </thead>\n",
       "  <tbody>\n",
       "    <tr>\n",
       "      <th>0</th>\n",
       "      <td>1992</td>\n",
       "      <td>59.698</td>\n",
       "    </tr>\n",
       "    <tr>\n",
       "      <th>1</th>\n",
       "      <td>1993</td>\n",
       "      <td>63.181</td>\n",
       "    </tr>\n",
       "    <tr>\n",
       "      <th>2</th>\n",
       "      <td>1994</td>\n",
       "      <td>86.272</td>\n",
       "    </tr>\n",
       "    <tr>\n",
       "      <th>3</th>\n",
       "      <td>1995</td>\n",
       "      <td>130.083</td>\n",
       "    </tr>\n",
       "    <tr>\n",
       "      <th>4</th>\n",
       "      <td>1996</td>\n",
       "      <td>89.260</td>\n",
       "    </tr>\n",
       "  </tbody>\n",
       "</table>\n",
       "</div>"
      ],
      "text/plain": [
       "   year  fee_cleaned\n",
       "0  1992       59.698\n",
       "1  1993       63.181\n",
       "2  1994       86.272\n",
       "3  1995      130.083\n",
       "4  1996       89.260"
      ]
     },
     "execution_count": 31,
     "metadata": {},
     "output_type": "execute_result"
    }
   ],
   "source": [
    "year_sum.head()"
   ]
  },
  {
   "cell_type": "code",
   "execution_count": 32,
   "metadata": {},
   "outputs": [
    {
     "data": {
      "image/png": "[encoded data removed]",
      "text/plain": [
       "<Figure size 432x288 with 1 Axes>"
      ]
     },
     "metadata": {
      "needs_background": "dark"
     },
     "output_type": "display_data"
    }
   ],
   "source": [
    "sns.countplot(data = df, x = \"transfer_movement\");"
   ]
  },
  {
   "cell_type": "code",
   "execution_count": 48,
   "metadata": {},
   "outputs": [
    {
     "data": {
      "image/png": "[encoded data removed]",
      "text/plain": [
       "<Figure size 432x288 with 1 Axes>"
      ]
     },
     "metadata": {
      "needs_background": "dark"
     },
     "output_type": "display_data"
    }
   ],
   "source": [
    "#share of positions\n",
    "order = df.position.value_counts().index\n",
    "sns.countplot(y =df.position, order = order, color = color)\n",
    "plt.title(\"Distribution of player positions\");"
   ]
  },
  {
   "cell_type": "markdown",
   "metadata": {},
   "source": [
    "### Bivariate Visualisation"
   ]
  },
  {
   "cell_type": "code",
   "execution_count": 50,
   "metadata": {},
   "outputs": [
    {
     "data": {
      "image/png": "[encoded data removed]",
      "text/plain": [
       "<Figure size 432x288 with 1 Axes>"
      ]
     },
     "metadata": {
      "needs_background": "dark"
     },
     "output_type": "display_data"
    }
   ],
   "source": [
    "#looking at the transfer fee by age groups\n",
    "sns.violinplot(y = \"age_group\", x = \"fee_cleaned\", data = df);"
   ]
  },
  {
   "cell_type": "code",
   "execution_count": 52,
   "metadata": {},
   "outputs": [
    {
     "data": {
      "image/png": "[encoded data removed]",
      "text/plain": [
       "<Figure size 432x288 with 1 Axes>"
      ]
     },
     "metadata": {
      "needs_background": "dark"
     },
     "output_type": "display_data"
    }
   ],
   "source": [
    "#changing x axes limits to focus on important part\n",
    "xbars = np.arange(start = 0, stop = (df.fee_cleaned.max() * 1000000), step=100000)\n",
    "\n",
    "sns.boxplot(y = df.age_group, x = df.fee_cleaned)\n",
    "plt.ylabel(\"fees in millions of euros\")\n",
    "plt.xlim(0, 10);"
   ]
  },
  {
   "cell_type": "code",
   "execution_count": 53,
   "metadata": {},
   "outputs": [
    {
     "data": {
      "image/png": "[encoded data removed]",
      "text/plain": [
       "<Figure size 432x288 with 1 Axes>"
      ]
     },
     "metadata": {
      "needs_background": "dark"
     },
     "output_type": "display_data"
    }
   ],
   "source": [
    "#looking at the correlation between age and transfer fees\n",
    "sns.regplot(x = \"age\", y = \"fee_cleaned\", data = df, x_jitter = 0.2);"
   ]
  },
  {
   "cell_type": "markdown",
   "metadata": {},
   "source": [
    "### Multivariate Visualisation"
   ]
  },
  {
   "cell_type": "code",
   "execution_count": 38,
   "metadata": {},
   "outputs": [
    {
     "data": {
      "image/png": "[encoded data removed]",
      "text/plain": [
       "<Figure size 1440x360 with 2 Axes>"
      ]
     },
     "metadata": {
      "needs_background": "dark"
     },
     "output_type": "display_data"
    }
   ],
   "source": [
    "sns.relplot(x = \"age\", y = \"fee_cleaned\", data = df, col = \"transfer_period\", col_wrap = 4, x_jitter = 0.5);"
   ]
  },
  {
   "cell_type": "code",
   "execution_count": 39,
   "metadata": {},
   "outputs": [],
   "source": [
    "df.to_csv(\"master.csv\", index = False)"
   ]
  },
  {
   "cell_type": "markdown",
   "metadata": {},
   "source": [
    "## Observations:\n",
    "- Highest outbound transfer of the bundesliga was that of Ousmane Dembele; worth 140m euros in 2017/2018, Dortmund to FCB\n",
    "- Youngest transer in the league was Marcel Geißler\tin 1993/1994, 9yo\n",
    "- The mean transfer fee is approximately 1.8m euros, while the median is 0.175000 or 175.000 euros\n",
    "- Highest occuring age group is 21 to 30\n",
    "- Center forwards, and centre-backs seem to be the highest share of players transfered\n",
    "- Year 2021 saw the most number of transfers, followed closely by 2019 and 2015, while 1992 and 1993 had the lowest"
   ]
  }
 ],
 "metadata": {
  "kernelspec": {
   "display_name": "Python 3.8.13 ('transfers')",
   "language": "python",
   "name": "python3"
  },
  "language_info": {
   "codemirror_mode": {
    "name": "ipython",
    "version": 3
   },
   "file_extension": ".py",
   "mimetype": "text/x-python",
   "name": "python",
   "nbconvert_exporter": "python",
   "pygments_lexer": "ipython3",
   "version": "3.8.13"
  },
  "orig_nbformat": 4,
  "vscode": {
   "interpreter": {
    "hash": "d03dbfe9a9d6a16d39265d1282103e4b2e467d228d2c2aea048fd4e5d60bb337"
   }
  }
 },
 "nbformat": 4,
 "nbformat_minor": 2
}
